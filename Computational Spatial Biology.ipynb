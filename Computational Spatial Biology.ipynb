{
 "cells": [
  {
   "cell_type": "markdown",
   "id": "fad204ec",
   "metadata": {},
   "source": [
    "The first part of the tutorial is inspired by the single morphometrics analysis proposed in Guijarro et al., 2024 [Github](https://github.com/VILLOUTREIXLab/sc-morphometrics-SHF), [paper](https://www.nature.com/articles/s41467-024-53612-8)"
   ]
  },
  {
   "cell_type": "markdown",
   "id": "7fa9d1d5",
   "metadata": {},
   "source": [
    "# Single-cell morphometrics reveals T-box dependent patterns of epithelial tension in the Second Heart Field\n",
    "\n",
    "### Goal: \n",
    "Understand the patterning of cardiac progenitors.The embryonic heart grows by the progressive addition of progenitor cells located on an epithelial layer known as the Dorsal pericardial wall (DPW).\n",
    "T-box transcription genes (Tbx1 and Tbx5) play a key role in regulating the addition of the cells to the poles of the heart. However, the mechanisms by which the cells contribute to each pole remain unclear.\n",
    "\n",
    "![E8 5 to E9 5 transition horizontal graph v3](https://github.com/user-attachments/assets/ac37731b-2141-4eb7-97a4-b89efddd72b4)\n",
    "To investigate this, we have employed dimentionality reduction and unsupervised clustering algorythms to map the cells according to their morphological features.\n",
    "\n",
    "### Data:\n",
    "- The data used for the sc-morphometricanalysis is stored in the Data folder. The code for quantification of sc-morphometrics clusters is in Quantification clusters - final.ipnyb, the code for the clusters obtained using absolute angle values is in Quantification clusters_abs degrees.ipnyb.\n",
    "- The data used for RNAscope quantification is stored in Data_RNAscope folder. The code for quantification is RNAscope - mRNA quantification - final.ipnyb\n",
    "- The images from wild-type, mutants and BMS treatment passed through Tissue Analyser for their segmentation and used in the study are in the IMAGES folder.\n",
    "\n",
    "### Pipeline:\n",
    "![figure1](https://github.com/user-attachments/assets/edccac6e-3534-4fe0-8c57-3da490ac7e71)\n",
    "\n",
    "1) Data acquisition: Whole mount immunofluorescence on the Dorsal pericardial wall (the cardiac epithelium) using phalloidin to label the cell membranes and other proteins of interest.\n",
    "2) Image segmentation using [Tissue Analyser](https://github.com/baigouy/tissue_analyzer) (TA) as described by Aigouy et al.2016, [Force inference](https://data.mendeley.com/datasets/78ng4tmj75/4) (Kong et al. 2019) and application of [Dproj](https://gitlab.pasteur.fr/iah-public/DeProj) (Herbert et al. 2021).\n",
    "3) Store,clean and merge the data\n",
    "\n",
    "In this tutorial, we will analyze the data using joint-spatial PCA "
   ]
  },
  {
   "cell_type": "code",
   "execution_count": null,
   "id": "70d4f1bd",
   "metadata": {},
   "outputs": [],
   "source": [
    "import pandas as pd\n",
    "import numpy as np\n",
    "import copy\n",
    "import os\n",
    "from scipy.io import savemat\n",
    "\n",
    "# data/input folder contains\n",
    "# 1)all the adjacency matrices as dataframes using the cells names cell_id as indices and columns names\n",
    "# the adjacency matrices should be named 'Ae'+str(e_id) for each e_id\n",
    "# 2)the dataframe of all centered and scaled features, called 'df_features_scaled.pkl'\n",
    "# with a column 'embryo' for e_id of the embryos \n",
    "\n",
    "\n",
    "# the scaled features can be found in the following data frame\n",
    "df_features_scaled=pd.read_pickle('data/scmorphometrics/df_features_scaled.pkl')\n",
    "e_ids=[1,2,3,4,5,6]\n",
    "n_features=8\n",
    "\n",
    "# the positions of individual cells can be found the following data frame\n",
    "df_abs=pd.read_pickle('data/scmorphometrics/df_positions_labelled_def.pkl')\n",
    "\n",
    "\n",
    "merged_df = pd.merge(df_features_scaled, df_abs )\n",
    "\n",
    "# visualize the head\n",
    "# merged_df.head\n"
   ]
  },
  {
   "cell_type": "code",
   "execution_count": null,
   "id": "6e4b2909",
   "metadata": {},
   "outputs": [],
   "source": [
    "import matplotlib.pyplot as plt\n",
    "from matplotlib.pyplot import show \n",
    "import seaborn as sns \n",
    "\n",
    "# question 1 - visualize each of the feature in the tissue space for a given embryo\n",
    "\n"
   ]
  },
  {
   "cell_type": "code",
   "execution_count": null,
   "id": "46445ba2",
   "metadata": {},
   "outputs": [],
   "source": [
    "# question 2 - visualize the eigenvalues of the PCA of the scaled features\n"
   ]
  },
  {
   "cell_type": "code",
   "execution_count": null,
   "id": "786f26df",
   "metadata": {},
   "outputs": [],
   "source": [
    "# from the position of the cells, it is possible to compute the adjacency matrix with k-Nearest Neighbor network \n",
    "# or Delaunay Triangulation\n",
    "# here we have the adjacency matrix as an input in the folder data/scmorphometrics\n",
    "# as dataframes using the cells names cell_id as indices and columns names\n",
    "# the adjacency matrices are named 'Ae'+str(e_id) for each e_id (embryo id) \n",
    "\n",
    "# question 3 - compute the degree distribution of a given embryo\n",
    "\n",
    "# L is the row normalized adjacency matrix\n",
    "\n",
    "# question 4 (optional) - compute the Moran's Index of the Principal Components using the formulation X^t L X / X^t X\n"
   ]
  },
  {
   "cell_type": "code",
   "execution_count": null,
   "id": "708d4770",
   "metadata": {},
   "outputs": [],
   "source": [
    "# question 5 - compute sPCA as the eigenvectors of the score matrix 1/2nX^t(L+L^t)X\n",
    "# compare the coefficient with the ones obtained with simple PCA\n"
   ]
  },
  {
   "cell_type": "code",
   "execution_count": null,
   "id": "00db2212",
   "metadata": {},
   "outputs": [],
   "source": [
    "# question 6 - perform 3 class clustering on the first component of sPCA and visualize the classes in the tissue space\n"
   ]
  },
  {
   "cell_type": "markdown",
   "id": "4f64ae77",
   "metadata": {},
   "source": [
    "# Spatial transcriptomics\n",
    "\n",
    "\n",
    "The second part of the tutorial is dedicated to the spatial analysis of spatial transcriptomics data using [jsPCA](https://github.com/VILLOUTREIXLab/jsPCA/tree/main)\n",
    "\n",
    "We will base our analysis on the [DLPFC 10x Visium dataset](http://sdmbench.drai.cn), based on slice 151673 (file number 9 in the database)."
   ]
  },
  {
   "cell_type": "code",
   "execution_count": null,
   "id": "33afc019",
   "metadata": {},
   "outputs": [],
   "source": [
    "import warnings\n",
    "import os\n",
    "import glob\n",
    "import anndata as ad\n",
    "import numpy as np\n",
    "import pandas as pd\n",
    "import scanpy as sc\n",
    "import matplotlib.pyplot as plt\n",
    "from sklearn.cluster import KMeans\n",
    "from sklearn.mixture import GaussianMixture\n",
    "from sklearn.metrics import (normalized_mutual_info_score, \n",
    "                             adjusted_rand_score, \n",
    "                             accuracy_score,\n",
    "                             homogeneity_score,\n",
    "                             completeness_score,\n",
    "                             silhouette_score)\n",
    "from scipy.optimize import linear_sum_assignment\n",
    "from scipy.sparse import csr_matrix\n",
    "from sklearn.decomposition import PCA\n",
    "import tracemalloc\n",
    "import time\n",
    "\n",
    "\n",
    "# Suppress warnings\n",
    "warnings.filterwarnings(\"ignore\")\n",
    "\n",
    "# Define the folder path where all the .h5ad files are stored\n",
    "folder_path = \"data/visium/\"\n",
    "\n",
    "# # Get a list of all .h5ad files in the folder\n",
    "# file_paths = glob.glob(os.path.join(folder_path, \"*.h5ad\"))\n",
    "\n",
    "# Example: Read the specific .h5ad file (for example, \"151673.h5ad\")\n",
    "file_to_read = \"151673.h5ad\"\n",
    "adata = ad.read_h5ad(os.path.join(folder_path, file_to_read))\n",
    "new_adata = ad.read_h5ad(os.path.join(folder_path, file_to_read))\n",
    "\n",
    "# Display the data\n",
    "print(adata)\n",
    "\n",
    "# Normalization\n",
    "sc.pp.filter_genes(adata,min_cells=20)\n",
    "sc.experimental.pp.normalize_pearson_residuals(adata)\n",
    "sc.pp.scale(adata)\n",
    "\n",
    "# Get the count of unique labels in 'ground_truth', ignoring NaN values\n",
    "num_labels = adata.obs['ground_truth'].nunique()\n",
    "print(f\"Number of unique labels in 'ground_truth' (excluding NaN) for {file_to_read}: {num_labels}\")\n",
    "\n",
    "# visualize the ground truth data \n",
    "plt.rcParams[\"figure.figsize\"] = (3, 3)\n",
    "sc.pl.spatial(adata, img_key=\"hires\", color=[\"Region\"], spot_size=100)"
   ]
  },
  {
   "cell_type": "code",
   "execution_count": null,
   "id": "cd19e535",
   "metadata": {},
   "outputs": [],
   "source": [
    "# question 1 : Compute the adjacency matrix with k-NN\n",
    "\n"
   ]
  },
  {
   "cell_type": "code",
   "execution_count": null,
   "id": "d2cbbc95",
   "metadata": {},
   "outputs": [],
   "source": [
    "# question 2 : Compute the jsPCA monoslice and its eignevalues and eigenvectors - 1/2n X^t (L + L^t) X\n"
   ]
  },
  {
   "cell_type": "code",
   "execution_count": null,
   "id": "3520341d",
   "metadata": {},
   "outputs": [],
   "source": [
    "# question 3 : Project the data on the first 10 eigenvectors of jsPCA and classify them using Gaussian Mixture Model\n"
   ]
  },
  {
   "cell_type": "code",
   "execution_count": null,
   "id": "da8fa11a",
   "metadata": {},
   "outputs": [],
   "source": [
    "# question 4 : Compare the prediction to the ground truth\n"
   ]
  },
  {
   "cell_type": "code",
   "execution_count": null,
   "id": "bb178fd0",
   "metadata": {},
   "outputs": [],
   "source": [
    "# question 5: Compute the ARI (Adjusted Rand Index) and NMI (Normalized Mutual Information)\n"
   ]
  },
  {
   "cell_type": "code",
   "execution_count": null,
   "id": "5268e5a0",
   "metadata": {},
   "outputs": [],
   "source": [
    "# question 6: Compare the results with a clustering performed on simple PCA (without taking into account the space)\n"
   ]
  },
  {
   "cell_type": "code",
   "execution_count": null,
   "id": "66be59b3",
   "metadata": {},
   "outputs": [],
   "source": [
    "# question 7 (optional): compare the results with other spatially aware clustering methods\n"
   ]
  }
 ],
 "metadata": {
  "kernelspec": {
   "display_name": "Python 3 (ipykernel)",
   "language": "python",
   "name": "python3"
  },
  "language_info": {
   "codemirror_mode": {
    "name": "ipython",
    "version": 3
   },
   "file_extension": ".py",
   "mimetype": "text/x-python",
   "name": "python",
   "nbconvert_exporter": "python",
   "pygments_lexer": "ipython3",
   "version": "3.11.9"
  }
 },
 "nbformat": 4,
 "nbformat_minor": 5
}
